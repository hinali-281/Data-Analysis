{
 "cells": [
  {
   "cell_type": "code",
   "execution_count": 2,
   "id": "c0533c4a-762b-4e30-ae86-36f744495818",
   "metadata": {},
   "outputs": [],
   "source": [
    "import numpy as np"
   ]
  },
  {
   "cell_type": "code",
   "execution_count": 6,
   "id": "619e83d9-77e6-4cb9-a344-2a7a4bfc241b",
   "metadata": {},
   "outputs": [
    {
     "data": {
      "text/plain": [
       "array([[[1.2, 2.2, 3.2],\n",
       "        [4.3, 5.3, 6.3],\n",
       "        [7.4, 8.4, 9.4]]])"
      ]
     },
     "execution_count": 6,
     "metadata": {},
     "output_type": "execute_result"
    }
   ],
   "source": [
    "##1. How to Creating a 3x3 Identity Matrix with Float Data Type?\n",
    "matrix=np.array([[[1.2,2.2,3.2],[4.3,5.3,6.3],[7.4,8.4,9.4]]],dtype=float)\n",
    "matrix\n",
    "                "
   ]
  },
  {
   "cell_type": "code",
   "execution_count": 21,
   "id": "b3c92056-9c6c-417c-b6d4-2df64fc0d7ea",
   "metadata": {},
   "outputs": [
    {
     "data": {
      "text/plain": [
       "array([0.06803456])"
      ]
     },
     "execution_count": 21,
     "metadata": {},
     "output_type": "execute_result"
    }
   ],
   "source": [
    "##2. Create a 1D Array with Random Values between 0 and 1. \n",
    "random_array=np.random.rand(1)\n",
    "random_array"
   ]
  },
  {
   "cell_type": "code",
   "execution_count": 24,
   "id": "efc541f1-1b20-4b3c-97b3-544df2bfcbaa",
   "metadata": {},
   "outputs": [
    {
     "data": {
      "text/plain": [
       "array([[5, 4, 3],\n",
       "       [1, 7, 1]], dtype=int32)"
      ]
     },
     "execution_count": 24,
     "metadata": {},
     "output_type": "execute_result"
    }
   ],
   "source": [
    "##3. Create a 2D Array with Random Integer Values. \n",
    "random_int=np.random.randint(0,8,size=6).reshape(2,3)\n",
    "random_int"
   ]
  },
  {
   "cell_type": "code",
   "execution_count": 26,
   "id": "981a3f64-314f-40cb-87e4-052ffd12a49f",
   "metadata": {},
   "outputs": [
    {
     "name": "stdout",
     "output_type": "stream",
     "text": [
      "[[0 1 2 3]\n",
      " [1 2 3 4]\n",
      " [2 3 4 5]]\n"
     ]
    }
   ],
   "source": [
    "##4. Creating an Array Using a Custom Function. \n",
    "def custom_logic(i,j):\n",
    "    return i+j\n",
    "array=np.fromfunction(custom_logic,(3,4),dtype=int)\n",
    "print(array)"
   ]
  },
  {
   "cell_type": "code",
   "execution_count": 31,
   "id": "4b2a7d90-f78f-4022-84d0-123ccea43a69",
   "metadata": {},
   "outputs": [
    {
     "name": "stdout",
     "output_type": "stream",
     "text": [
      "[2 4 5 7 8 7]\n",
      "[[2 4 5]\n",
      " [7 8 7]]\n"
     ]
    }
   ],
   "source": [
    "##5. Reshaping a 1D Array into a 2D Array \n",
    "array1D=np.array([2,4,5,7,8,7])\n",
    "print(array)\n",
    "array2D=array1D.reshape(2,3)\n",
    "print(array2D)"
   ]
  },
  {
   "cell_type": "code",
   "execution_count": 34,
   "id": "f1cfe837-499e-4a2e-8900-04fe83d5bf5e",
   "metadata": {},
   "outputs": [
    {
     "name": "stdout",
     "output_type": "stream",
     "text": [
      "[[1 1 1]\n",
      " [1 1 1]\n",
      " [1 1 1]]\n"
     ]
    }
   ],
   "source": [
    "##6.How to Creating a 3x3 Array of Ones?\n",
    "array_ones=np.ones((3,3),dtype=int)\n",
    "print(array_ones)"
   ]
  },
  {
   "cell_type": "code",
   "execution_count": 36,
   "id": "983d9e71-9dc6-499c-86fe-40b7964d39f5",
   "metadata": {},
   "outputs": [
    {
     "name": "stdout",
     "output_type": "stream",
     "text": [
      "[2 4]\n"
     ]
    }
   ],
   "source": [
    " \n",
    "## 7. How to get the common items between two pythons \n",
    "## NumPy? Input: \n",
    "a = np. array ([1,2,3,2,3,4,3,4,5,6]) \n",
    "b = np. array ([7,2,10,2,7,4,9,4,9,8]) \n",
    "## Expected Output: \n",
    "## array ([2, 4]) \n",
    "common=np.intersect1d(a,b)\n",
    "print(common)\n"
   ]
  },
  {
   "cell_type": "code",
   "execution_count": 43,
   "id": "70910866-4ec8-4e0c-a53d-6def4b61a360",
   "metadata": {},
   "outputs": [
    {
     "name": "stdout",
     "output_type": "stream",
     "text": [
      "[1 2 3 4]\n"
     ]
    }
   ],
   "source": [
    " ##8. From array a remove all items present in \n",
    "##array b Input: \n",
    "a = np. array ([1,2,3,4,5]) \n",
    "b = np. array ([5,6,7,8,9])\n",
    "diff=np.setdiff1d(a,b)\n",
    "print(diff)"
   ]
  },
  {
   "cell_type": "code",
   "execution_count": 57,
   "id": "96338f69-58cb-47c8-9e32-b2d2e1965d61",
   "metadata": {},
   "outputs": [
    {
     "name": "stdout",
     "output_type": "stream",
     "text": [
      "[ 0  1  2 ... 12 13 14]\n"
     ]
    }
   ],
   "source": [
    "##9. Limit the number of items printed in python NumPy array a to a maximum of 6 elements. \n",
    "np.set_printoptions(threshold=6)\n",
    "a=np.arange(15)\n",
    "print(a)"
   ]
  },
  {
   "cell_type": "code",
   "execution_count": 62,
   "id": "731d1a45-0e78-4376-8002-8b18a268ad68",
   "metadata": {},
   "outputs": [
    {
     "name": "stdout",
     "output_type": "stream",
     "text": [
      "[1. 2. 3. 5. 6. 7.]\n"
     ]
    }
   ],
   "source": [
    "##10. Drop all nan values from a 1D NumPy\n",
    "a=np. array ([1,2,3, np.nan,5,6,7, np.nan])\n",
    "remove_nan=a[~np.isnan(a)]\n",
    "print(remove_nan)"
   ]
  },
  {
   "cell_type": "code",
   "execution_count": 69,
   "id": "68377bf1-67d1-44aa-91e7-96ff82d0a0c9",
   "metadata": {},
   "outputs": [
    {
     "name": "stdout",
     "output_type": "stream",
     "text": [
      "[ 1  2  3 ... 18 19 20]\n",
      "[[ 1  2  3  4  5]\n",
      " [ 6  7  8  9 10]\n",
      " [11 12 13 14 15]\n",
      " [16 17 18 19 20]]\n"
     ]
    }
   ],
   "source": [
    "##11. Question: Create a 1D NumPy array of the first 20 natural numbers and a 2D NumPy array of shape (4, 5) with values ranging from 1 to 20.\n",
    "a=np.arange(1,21)\n",
    "b=a.reshape(4,5)\n",
    "print(a)\n",
    "print(b)"
   ]
  },
  {
   "cell_type": "code",
   "execution_count": 83,
   "id": "91c5b4db-66ac-4be3-89ea-854d33d0f214",
   "metadata": {},
   "outputs": [
    {
     "name": "stdout",
     "output_type": "stream",
     "text": [
      "[[[ 0  1  2  3]\n",
      "  [ 4  5  6  7]\n",
      "  [ 8  9 10 11]]\n",
      "\n",
      " [[12 13 14 15]\n",
      "  [16 17 18 19]\n",
      "  [20 21 22 23]]]\n",
      "(2, 3, 4)\n",
      "24\n",
      "3\n",
      "int64\n",
      "[[[ 0.  1.  2.  3.]\n",
      "  [ 4.  5.  6.  7.]\n",
      "  [ 8.  9. 10. 11.]]\n",
      "\n",
      " [[12. 13. 14. 15.]\n",
      "  [16. 17. 18. 19.]\n",
      "  [20. 21. 22. 23.]]]\n"
     ]
    }
   ],
   "source": [
    "##12. Question: Given a 3D NumPy array of shape (2, 3, 4), find its shape, size, number of dimensions, and data type. \n",
    "##Change its data type to float64 and verify the change. \n",
    "a=np.arange(24).reshape(2,3,4)\n",
    "print(a)\n",
    "shape=a.shape\n",
    "size=a.size\n",
    "dim=a.ndim\n",
    "data_type=a.dtype\n",
    "print(shape)\n",
    "print(size)\n",
    "print(dim)\n",
    "print(data_type)\n",
    "print(a.astype(float))"
   ]
  },
  {
   "cell_type": "code",
   "execution_count": 13,
   "id": "f66eb2c9-e848-467c-b8e2-e89bdd90ae26",
   "metadata": {},
   "outputs": [
    {
     "name": "stdout",
     "output_type": "stream",
     "text": [
      "[ 1  2  3  4  5  6  7  8  9 10 11 12]\n",
      "[[ 1  2  3  4]\n",
      " [ 5  6  7  8]\n",
      " [ 9 10 11 12]]\n",
      "[ 1  2  3  4  5  6  7  8  9 10 11 12]\n",
      "Match: True\n"
     ]
    }
   ],
   "source": [
    "##13. Question: Reshape a 1D array of 12 elements into a 3x4 2D array and then flatten it back into a 1D array using ravel (). Verify that \n",
    "##the flattened array matches the original. \n",
    "D=np.arange(1,13)\n",
    "print(D)\n",
    "D2=D.reshape(3,4)\n",
    "print(D2)\n",
    "D1=D2.ravel()\n",
    "print(D1)\n",
    "print(\"Match:\",np.array_equal(D1,D))"
   ]
  },
  {
   "cell_type": "code",
   "execution_count": 16,
   "id": "ee7e163b-6bca-4b7f-a00d-fecf70e88228",
   "metadata": {},
   "outputs": [
    {
     "name": "stdout",
     "output_type": "stream",
     "text": [
      "ADD: [5 7 9]\n",
      "SUB [-3 -3 -3]\n",
      "MULTI [ 4 10 18]\n",
      "Div [inf inf inf]\n"
     ]
    },
    {
     "name": "stderr",
     "output_type": "stream",
     "text": [
      "C:\\Users\\Hinali\\AppData\\Local\\Temp\\ipykernel_19140\\3357743581.py:8: RuntimeWarning: divide by zero encountered in divide\n",
      "  print(\"Div\",a/0)\n"
     ]
    }
   ],
   "source": [
    "##14. Question: Given two arrays, a = np. array ([1, 2, 3]) and b = np. array ([4, 5, 6]), perform element-wise addition, subtraction, multiplication,\n",
    "##and division. Explain the behavior when dividing by zero.\n",
    "a = np. array ([1, 2, 3])\n",
    "b = np. array ([4, 5, 6])\n",
    "print(\"ADD:\",a+b)\n",
    "print(\"SUB\",a-b)\n",
    "print(\"MULTI\",a*b)\n",
    "# print(\"Div\",a/0)\n",
    "##Dividing by zero in NumPy doesn't crash your program — it returns inf, -inf, or nan depending on the values.A runtime warning is shown, but execution continues.\n"
   ]
  },
  {
   "cell_type": "code",
   "execution_count": 28,
   "id": "7fe9a7dc-67c7-4e80-a999-04aa0074fd3f",
   "metadata": {},
   "outputs": [
    {
     "name": "stdout",
     "output_type": "stream",
     "text": [
      "[[5 6 7]\n",
      " [6 7 8]\n",
      " [7 8 9]]\n"
     ]
    }
   ],
   "source": [
    "##15. Question: Create a 2D array of shape (3, 1) and a 1D array of length 3. Perform element-wise addition using broadcasting. \n",
    "##Explain how broadcasting rules apply in this scenario.\n",
    "D2=np.arange(3,6).reshape(3,1)\n",
    "D1=np.arange(2,5)\n",
    "print(D2+D1)\n",
    "##it allow Numpy to perform opration on arrays of diffrent shape.here both have same 3 rows and other one have 3 column so he work bordcasting \n",
    "##and create new array as 3*3."
   ]
  },
  {
   "cell_type": "code",
   "execution_count": 34,
   "id": "a241a80c-2ca8-4b32-9c77-dfe173d6800c",
   "metadata": {},
   "outputs": [
    {
     "name": "stdout",
     "output_type": "stream",
     "text": [
      "[[False False False False]\n",
      " [False False  True  True]\n",
      " [ True  True  True  True]]\n"
     ]
    }
   ],
   "source": [
    "##16. Question: Generate a random 2D array of integers between 0 and 10. Use  conditional operators to create a Boolean mask identifying elements \n",
    "##greater than 5. Replace all elements greater than 5 with the value 5. \n",
    "D2=np.arange(0,12).reshape(3,4)\n",
    "check=D2>5\n",
    "print(check)\n"
   ]
  },
  {
   "cell_type": "code",
   "execution_count": 52,
   "id": "acec9ad3-1e2e-4118-83f0-bd7eedd982a5",
   "metadata": {},
   "outputs": [
    {
     "name": "stdout",
     "output_type": "stream",
     "text": [
      "[[33 27 37  1]\n",
      " [38  4 17 21]\n",
      " [27 29  0 33]\n",
      " [13 32 38  5]]\n",
      "______________\n",
      "o The entire second row\n",
      "[38  4 17 21]\n",
      "______________\n",
      "o The last column\n",
      "[ 1 21 33  5]\n",
      "______________\n",
      "o The subarray consisting of the first two rows and first two columns\n",
      "[[33 27]\n",
      " [38  4]]\n"
     ]
    }
   ],
   "source": [
    "##17. Question: Given a 4x4 array of random integers, use indexing and slicing to extract:  \n",
    "## o The subarray consisting of the first two rows and first two columns \n",
    "array=np.random.randint(0,40,size=16).reshape(4,4)\n",
    "print(array)\n",
    "print(\"______________\")\n",
    "print(\"o The entire second row\")\n",
    "print(array[1])\n",
    "print(\"______________\")\n",
    "print(\"o The last column\")\n",
    "print(array[0:4,3])\n",
    "print(\"______________\")\n",
    "print(\"o The subarray consisting of the first two rows and first two columns\")\n",
    "print(array[0:2,(0,1)])"
   ]
  },
  {
   "cell_type": "code",
   "execution_count": 35,
   "id": "60bc0550-eabd-4a7b-8869-795b365fe2f7",
   "metadata": {},
   "outputs": [
    {
     "name": "stdout",
     "output_type": "stream",
     "text": [
      "Cleaned Data: [ 5.   7.   6.5 10.   6.5  4. ]\n"
     ]
    }
   ],
   "source": [
    "##18. Question: Describe a practical example where NumPy can be used in EDA, AI, ML, and DL, and implement a NumPy solution \n",
    "##for a simple task in each area. \n",
    "#  1. EDA (Exploratory Data Analysis)\n",
    "#  Task: Detect and replace missing values (NaN)\n",
    "#>>>>>>>>>>>>>>>>>>>>>>>>>>>>>>>>>>>>>>>\n",
    "import numpy as np\n",
    "\n",
    "# # # Simulated dataset with some missing values\n",
    "data = np.array([5, 7, np.nan, 10, np.nan, 4])\n",
    "\n",
    "# # # Detect NaNs\n",
    "mask = np.isnan(data)\n",
    "\n",
    "# # # Replace NaNs with the mean of valid numbers\n",
    "data[mask] = np.nanmean(data)\n",
    "\n",
    "print(\"Cleaned Data:\", data)\n",
    "#  Why this matters: In EDA, cleaning missing values is a critical first step."
   ]
  },
  {
   "cell_type": "code",
   "execution_count": null,
   "id": "dfeed4be-470b-4cb1-a87e-545706b3646c",
   "metadata": {},
   "outputs": [],
   "source": [
    "##19.Create a random 4x4 matrix and use NumPy to compute its eigenvalues and eigenvectors. Verify the eigenvalues by reconstructing the matrix. \n"
   ]
  },
  {
   "cell_type": "code",
   "execution_count": 11,
   "id": "5d2b0d78-ddbb-40e8-9b55-e8d7e7e44d87",
   "metadata": {},
   "outputs": [
    {
     "name": "stdout",
     "output_type": "stream",
     "text": [
      "OG [30 46 19 22  5 23 37 20 21 47 38 42 30 37 47  4  2  5 38 21 16  3 26  5\n",
      " 26 23 36]\n",
      "array_3D [[[30 46 19]\n",
      "  [22  5 23]\n",
      "  [37 20 21]]\n",
      "\n",
      " [[47 38 42]\n",
      "  [30 37 47]\n",
      "  [ 4  2  5]]\n",
      "\n",
      " [[38 21 16]\n",
      "  [ 3 26  5]\n",
      "  [26 23 36]]]\n",
      "new_OG [30 46 19 22  5 23 37 20 21 47 38 42 30 37 47  4  2  5 38 21 16  3 26  5\n",
      " 26 23 36]\n",
      "OG==new_OG is True\n"
     ]
    }
   ],
   "source": [
    "##20.Create a 1D array of 27 elements and reshape it into a 3x3x3 3D array. Flatten it back into a 1D array and compare the flattened array \n",
    "##with the original. \n",
    "OG=np.random.randint(1,50,size=27)\n",
    "print(\"OG\",OG)\n",
    "array_3D=OG.reshape(3,3,3)\n",
    "print(\"array_3D\",array_3D)\n",
    "new_OG=array_3D.ravel()\n",
    "print(\"new_OG\",new_OG)\n",
    "print(\"OG==new_OG is\",np.array_equal(new_OG,OG))\n"
   ]
  },
  {
   "cell_type": "code",
   "execution_count": 24,
   "id": "e29bfe8c-f1e3-42f6-b61b-75dc03fcfa4e",
   "metadata": {},
   "outputs": [
    {
     "name": "stdout",
     "output_type": "stream",
     "text": [
      "[[14  8  6]\n",
      " [ 3 16  1]]\n",
      "[[15 13]\n",
      " [ 5  9]\n",
      " [ 9  9]]\n",
      "[[304 308]\n",
      " [134 192]]\n",
      "[[304 308]\n",
      " [134 192]]\n",
      "np.dot time: 0.5927634239196777\n",
      "@ operator time: 0.6999084949493408\n"
     ]
    }
   ],
   "source": [
    "##21.Perform matrix multiplication of two 2D arrays using np.dot () and @. Compare the results and performance of both methods using a large dataset.\n",
    "a=np.random.randint(1,20,size=6).reshape(2,3)\n",
    "b=np.random.randint(1,19,size=6).reshape(3,2)\n",
    "print(a)\n",
    "print(b)\n",
    "print(np.dot(a,b))\n",
    "print(a@b)\n",
    "\n",
    "##Compare\n",
    "import time\n",
    "# Larger arrays for better test\n",
    "a_large = np.random.randint(1, 100, size=(1000, 500))\n",
    "b_large = np.random.randint(1, 100, size=(500, 1000))\n",
    "\n",
    "start = time.time()\n",
    "np.dot(a_large, b_large)\n",
    "print(\"np.dot time:\", time.time() - start)\n",
    "\n",
    "start = time.time()\n",
    "a_large @ b_large\n",
    "print(\"@ operator time:\", time.time() - start)\n",
    "\n"
   ]
  },
  {
   "cell_type": "code",
   "execution_count": 16,
   "id": "93a51cd3-d9a6-4afa-a6ff-42e368103f68",
   "metadata": {},
   "outputs": [
    {
     "name": "stdout",
     "output_type": "stream",
     "text": [
      "[[[ 8 11  9 17]]\n",
      "\n",
      " [[ 4 13 11 16]]]\n",
      "[[ 3]\n",
      " [12]\n",
      " [ 6]\n",
      " [ 1]]\n",
      "[[[ 24  33  27  51]\n",
      "  [ 96 132 108 204]\n",
      "  [ 48  66  54 102]\n",
      "  [  8  11   9  17]]\n",
      "\n",
      " [[ 12  39  33  48]\n",
      "  [ 48 156 132 192]\n",
      "  [ 24  78  66  96]\n",
      "  [  4  13  11  16]]]\n",
      "[[[11 14 12 20]\n",
      "  [20 23 21 29]\n",
      "  [14 17 15 23]\n",
      "  [ 9 12 10 18]]\n",
      "\n",
      " [[ 7 16 14 19]\n",
      "  [16 25 23 28]\n",
      "  [10 19 17 22]\n",
      "  [ 5 14 12 17]]]\n"
     ]
    }
   ],
   "source": [
    "##22. Question: Create a 3D array of shape (2, 1, 4) and a 2D array of shape (4, 1). Perform an element-wise operation using broadcasting \n",
    "##and explain the result. Use np. new axis to achieve the same result without broadcasting.\n",
    "D3=np.random.randint(1,20,size=8).reshape(2,1,4)\n",
    "D2=np.random.randint(1,20,size=4).reshape(4,1)\n",
    "print(D3)\n",
    "print(D2)\n",
    "print(D3*D2)\n",
    "print(D3+D2)"
   ]
  },
  {
   "cell_type": "raw",
   "id": "a6ff069a-513f-4983-9b01-6d82eb198d82",
   "metadata": {},
   "source": []
  },
  {
   "cell_type": "code",
   "execution_count": 6,
   "id": "099de3ba-4559-4b99-b895-9a40ecfa0ccc",
   "metadata": {},
   "outputs": [
    {
     "name": "stdout",
     "output_type": "stream",
     "text": [
      "[[0.91035531 0.60592692 0.64458112]\n",
      " [0.16866304 0.24180089 0.33866685]]\n",
      "[[ True  True  True]\n",
      " [False False False]]\n",
      "[[0.8287468  0.36714743 0.41548482]\n",
      " [0.16866304 0.24180089 0.33866685]]\n"
     ]
    }
   ],
   "source": [
    "##23. Question: Generate a 2D array of random floats between 0 and 1. Use conditional operators to create a Boolean mask for values less than 0.5. \n",
    "##Replace these values with their squares and leave the rest unchanged.\n",
    "D2=np.random.rand(6).reshape(2,3)\n",
    "print(D2)\n",
    "mask=D2>0.5\n",
    "print(mask)\n",
    "D2[mask]=D2[mask]**2\n",
    "print(D2)\n"
   ]
  },
  {
   "cell_type": "code",
   "execution_count": 21,
   "id": "c977a509-6410-4f6f-80e7-8962ec882fcb",
   "metadata": {},
   "outputs": [
    {
     "name": "stdout",
     "output_type": "stream",
     "text": [
      "[[4 1 8 5 3]\n",
      " [6 1 2 3 6]\n",
      " [6 7 5 8 2]\n",
      " [6 2 2 7 8]\n",
      " [5 6 3 8 2]]\n",
      "diagonal elements = [4 1 5 7 2]\n",
      "Fill 0\n",
      " [[4 1 8 5 3]\n",
      " [6 1 2 3 6]\n",
      " [0 0 0 0 0]\n",
      " [6 2 2 7 8]\n",
      " [5 6 3 8 2]]\n",
      "OG\n",
      " [[4 1 8 5 3]\n",
      " [6 1 2 3 6]\n",
      " [0 0 0 0 0]\n",
      " [6 2 2 7 8]\n",
      " [5 6 3 8 2]]\n",
      "vertically Flip\n",
      " [[5 6 3 8 2]\n",
      " [6 2 2 7 8]\n",
      " [0 0 0 0 0]\n",
      " [6 1 2 3 6]\n",
      " [4 1 8 5 3]]\n",
      "horizontally Flip\n",
      " [[3 5 8 1 4]\n",
      " [6 3 2 1 6]\n",
      " [0 0 0 0 0]\n",
      " [8 7 2 2 6]\n",
      " [2 8 3 6 5]]\n"
     ]
    }
   ],
   "source": [
    "##24. Question: Given a 5x5 array of sequential integers, use slicing to:  \n",
    "a=np.random.randint(1,9,size=25).reshape(5,5)\n",
    "print(a)\n",
    "##o Extract the diagonal elements \n",
    "print(\"diagonal elements =\",np.diag(a))\n",
    "##o Replace the elements of the middle row with zeros\n",
    "middel_row=a.shape[0]//2\n",
    "a[middel_row]=0\n",
    "print(\"Fill 0\\n\",a)\n",
    "##o Flip the array vertically and horizontally\n",
    "print(\"OG\\n\",a)\n",
    "print(\"vertically Flip\\n\",np.flipud(a))\n",
    "print(\"horizontally Flip\\n\",np.fliplr(a))"
   ]
  },
  {
   "cell_type": "code",
   "execution_count": 31,
   "id": "ea551157-3df4-48ae-a4f9-6d7633e70c97",
   "metadata": {},
   "outputs": [
    {
     "name": "stdout",
     "output_type": "stream",
     "text": [
      "[[[[15  6 12 14 18]\n",
      "   [10 11  7 14  3]\n",
      "   [12 10 19 16 16]\n",
      "   [ 9 19 12  6 11]]\n",
      "\n",
      "  [[ 2 19 12 11 17]\n",
      "   [15 12 15 18  3]\n",
      "   [ 6 11 13 17 16]\n",
      "   [ 8  6 11  7 11]]\n",
      "\n",
      "  [[ 2  7  2 12  2]\n",
      "   [19  6  9  7  5]\n",
      "   [ 3 19  4 16 11]\n",
      "   [ 4 19  7 18 13]]]\n",
      "\n",
      "\n",
      " [[[ 7  3  3 14 14]\n",
      "   [ 2  5  1  7 16]\n",
      "   [ 7 15  6 10  2]\n",
      "   [ 1 17  3 13  7]]\n",
      "\n",
      "  [[12  3  7  4  4]\n",
      "   [ 3  7 16  9 18]\n",
      "   [ 8 12 17  8  8]\n",
      "   [16 10 13  3 19]]\n",
      "\n",
      "  [[ 5 10  2  3 10]\n",
      "   [ 2  8 17  9 18]\n",
      "   [10 17  1  9 10]\n",
      "   [ 9 17 16 15 14]]]]\n",
      "subarray\n",
      "= [[[15  6 12]\n",
      "  [10 11  7]\n",
      "  [12 10 19]\n",
      "  [ 9 19 12]]\n",
      "\n",
      " [[ 2 19 12]\n",
      "  [15 12 15]\n",
      "  [ 6 11 13]\n",
      "  [ 8  6 11]]\n",
      "\n",
      " [[ 2  7  2]\n",
      "  [19  6  9]\n",
      "  [ 3 19  4]\n",
      "  [ 4 19  7]]]\n",
      "mean_result \n",
      "= [[ 6.33333333 10.66666667  8.66666667]\n",
      " [14.66666667  9.66666667 10.33333333]\n",
      " [ 7.         13.33333333 12.        ]\n",
      " [ 7.         14.66666667 10.        ]]\n"
     ]
    }
   ],
   "source": [
    "##25.Create a 4D array of shape (2, 3, 4, 5) with random integers.Use advanced slicing to extract a subarray and compute the mean along a specified axis.\n",
    "a=np.random.randint(1,20,size=120).reshape(2,3,4,5)\n",
    "print(a)\n",
    "print(\"subarray\\n=\", a[0, :, :, 0:3])\n",
    "sub= a[0, :, :, :3]\n",
    "print(\"mean_result \\n=\", sub.mean(axis=0))\n"
   ]
  },
  {
   "cell_type": "code",
   "execution_count": 34,
   "id": "6bc8c2c0-0d9d-4f7e-b46b-3faffbba3f3f",
   "metadata": {},
   "outputs": [
    {
     "name": "stdout",
     "output_type": "stream",
     "text": [
      "10X20\n",
      " [[11 20 46 10 45 39 36 15 24 46  2 29  2 22 10  7  9 30 12 20]\n",
      " [23 35 32 24 40 27 15 17 27 27 30 24  8 15 37 38 33 25  7 12]\n",
      " [45  4 43  7 38 11  9 48 23 19 32 22 14 27 40  3 37 11  9 36]\n",
      " [27 48  7 13 39 34  7 27 17 30 14 34 48 27  7  8 30 11 37 39]\n",
      " [ 4 43 28  3 38  5 18 10 24 33 31 26 26 31 29 31 32 25 34 45]\n",
      " [ 7 31 25  9 45 38 27 11  4  4 11  2 29 48 34 34 12  5 13 49]\n",
      " [37 37  2  4 14 30 16 29 30 48 12 11 19 23 14 46  8 22 31 28]\n",
      " [32 44  9 44 29 27 46 29  5 29  9 26 16 16 21  1 21 42 14 26]\n",
      " [ 4 27 45 24 21  5 20 25 32 23 24 26 21 44  4 47 18 49 41 10]\n",
      " [29 26  4  6 32 31 42 15 38  6 30 41 44 47 24 32 14  8  1 13]]\n",
      "20X10\n",
      " [[11 20 46 10 45 39 36 15 24 46]\n",
      " [ 2 29  2 22 10  7  9 30 12 20]\n",
      " [23 35 32 24 40 27 15 17 27 27]\n",
      " [30 24  8 15 37 38 33 25  7 12]\n",
      " [45  4 43  7 38 11  9 48 23 19]\n",
      " [32 22 14 27 40  3 37 11  9 36]\n",
      " [27 48  7 13 39 34  7 27 17 30]\n",
      " [14 34 48 27  7  8 30 11 37 39]\n",
      " [ 4 43 28  3 38  5 18 10 24 33]\n",
      " [31 26 26 31 29 31 32 25 34 45]\n",
      " [ 7 31 25  9 45 38 27 11  4  4]\n",
      " [11  2 29 48 34 34 12  5 13 49]\n",
      " [37 37  2  4 14 30 16 29 30 48]\n",
      " [12 11 19 23 14 46  8 22 31 28]\n",
      " [32 44  9 44 29 27 46 29  5 29]\n",
      " [ 9 26 16 16 21  1 21 42 14 26]\n",
      " [ 4 27 45 24 21  5 20 25 32 23]\n",
      " [24 26 21 44  4 47 18 49 41 10]\n",
      " [29 26  4  6 32 31 42 15 38  6]\n",
      " [30 41 44 47 24 32 14  8  1 13]]\n",
      "5X40\n",
      " [[11 20 46 10 45 39 36 15 24 46  2 29  2 22 10  7  9 30 12 20 23 35 32 24\n",
      "  40 27 15 17 27 27 30 24  8 15 37 38 33 25  7 12]\n",
      " [45  4 43  7 38 11  9 48 23 19 32 22 14 27 40  3 37 11  9 36 27 48  7 13\n",
      "  39 34  7 27 17 30 14 34 48 27  7  8 30 11 37 39]\n",
      " [ 4 43 28  3 38  5 18 10 24 33 31 26 26 31 29 31 32 25 34 45  7 31 25  9\n",
      "  45 38 27 11  4  4 11  2 29 48 34 34 12  5 13 49]\n",
      " [37 37  2  4 14 30 16 29 30 48 12 11 19 23 14 46  8 22 31 28 32 44  9 44\n",
      "  29 27 46 29  5 29  9 26 16 16 21  1 21 42 14 26]\n",
      " [ 4 27 45 24 21  5 20 25 32 23 24 26 21 44  4 47 18 49 41 10 29 26  4  6\n",
      "  32 31 42 15 38  6 30 41 44 47 24 32 14  8  1 13]]\n"
     ]
    }
   ],
   "source": [
    "##26.Given an array of shape (10, 20), reshape it to (20, 10) and (5, 40). Discuss the impact on the array's shape, size, and dimensionality. \n",
    "a=np.random.randint(1,50,size=200).reshape(10,20)\n",
    "print(\"10X20\\n\",a)\n",
    "b=a.reshape(20,10)\n",
    "print(\"20X10\\n\",b)\n",
    "c=a.reshape(5,40)\n",
    "print(\"5X40\\n\",c)"
   ]
  },
  {
   "cell_type": "code",
   "execution_count": 36,
   "id": "db791991-b269-4314-9e8a-e6c645cd1ab8",
   "metadata": {},
   "outputs": [],
   "source": [
    "##27.Generate a large 2D array and demonstrate the use of np.reshape () and np.ravel () to manipulate its shape for various linear algebra operations\n",
    "###Generate a large 2D array:\n",
    "a = np.arange(100).reshape(10, 10)  # 10×10 matrix\n",
    "\n",
    "###Use reshape() to change shape (e.g., flatten and reshape for multiplication):\n",
    "b = a.reshape(20, 5)  # reshape to 20×5\n",
    "\n",
    "###Use ravel() to flatten into 1D (useful for vector operations):\n",
    "flat = a.ravel()  # shape becomes (100,). "
   ]
  },
  {
   "cell_type": "code",
   "execution_count": null,
   "id": "363f4dcd-958a-459d-9472-3f3b2502a982",
   "metadata": {},
   "outputs": [],
   "source": [
    "##28. Given a 6x6 matrix, use advanced indexing and slicing to extract the upper triangular part of the matrix and \n",
    "##set the lower triangular part to zero. Verify the result. "
   ]
  }
 ],
 "metadata": {
  "kernelspec": {
   "display_name": "Python 3 (ipykernel)",
   "language": "python",
   "name": "python3"
  },
  "language_info": {
   "codemirror_mode": {
    "name": "ipython",
    "version": 3
   },
   "file_extension": ".py",
   "mimetype": "text/x-python",
   "name": "python",
   "nbconvert_exporter": "python",
   "pygments_lexer": "ipython3",
   "version": "3.12.4"
  }
 },
 "nbformat": 4,
 "nbformat_minor": 5
}
