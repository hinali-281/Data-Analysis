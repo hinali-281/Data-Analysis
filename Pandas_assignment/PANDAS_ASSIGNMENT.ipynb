{
 "cells": [
  {
   "cell_type": "code",
   "execution_count": 1,
   "id": "5a6b90b3-c55e-4727-a229-449ae037f237",
   "metadata": {},
   "outputs": [],
   "source": [
    "import pandas as pd"
   ]
  },
  {
   "cell_type": "code",
   "execution_count": 13,
   "id": "3ba39d6d-7a46-44f7-ac11-8cb689af36ae",
   "metadata": {},
   "outputs": [],
   "source": [
    "##1) Create a series of three different colors \n",
    "color=pd.Series([\"yellow\",\"White\",\"Red\",\"Black\",\"Blue\",\"Brown\",\"Pink\",\"purple\"])\n"
   ]
  },
  {
   "cell_type": "code",
   "execution_count": 14,
   "id": "9f8daba2-39b0-44f7-b5d8-b4b94a57bb68",
   "metadata": {},
   "outputs": [
    {
     "name": "stdout",
     "output_type": "stream",
     "text": [
      "0    yellow\n",
      "1     White\n",
      "2       Red\n",
      "3     Black\n",
      "4      Blue\n",
      "5     Brown\n",
      "6      Pink\n",
      "7    purple\n",
      "dtype: object\n"
     ]
    }
   ],
   "source": [
    "##2) View the series of different colors \n",
    "print(color)"
   ]
  },
  {
   "cell_type": "code",
   "execution_count": 15,
   "id": "4d8e72ae-824b-42c9-8938-83bae66b988a",
   "metadata": {},
   "outputs": [
    {
     "name": "stdout",
     "output_type": "stream",
     "text": [
      "0        Ferrari\n",
      "1        bugatti\n",
      "2    Lamborghini\n",
      "3            BMW\n",
      "4           THAR\n",
      "5        porsche\n",
      "6           Ford\n",
      "7           Audi\n",
      "dtype: object\n"
     ]
    }
   ],
   "source": [
    "##3) Create a series of three different car types and view it \n",
    "cars=pd.Series([\"Ferrari\",\"bugatti\",\"Lamborghini\",\"BMW\",\"THAR\",\"porsche\",\"Ford\",\"Audi\"])\n",
    "print(cars)"
   ]
  },
  {
   "cell_type": "code",
   "execution_count": 16,
   "id": "881dae9a-1125-4968-8bc8-a3e0ab8449d0",
   "metadata": {},
   "outputs": [
    {
     "name": "stdout",
     "output_type": "stream",
     "text": [
      "          Cars   Color\n",
      "0      Ferrari  yellow\n",
      "1      bugatti   White\n",
      "2  Lamborghini     Red\n",
      "3          BMW   Black\n",
      "4         THAR    Blue\n",
      "5      porsche   Brown\n",
      "6         Ford    Pink\n",
      "7         Audi  purple\n"
     ]
    }
   ],
   "source": [
    "##4) Combine the Series of cars and colors into a Data Frame \n",
    "new=pd.DataFrame({\"Cars\":cars,\"Color\":color})\n",
    "print(new)"
   ]
  },
  {
   "cell_type": "code",
   "execution_count": 17,
   "id": "393c1ddc-b086-416b-bf54-2e8d3c8b8e00",
   "metadata": {},
   "outputs": [
    {
     "name": "stdout",
     "output_type": "stream",
     "text": [
      "object\n"
     ]
    }
   ],
   "source": [
    "##5) Find the different datatypes of the car data Data Frame \n",
    "print(new[\"Cars\"].dtype)"
   ]
  },
  {
   "cell_type": "code",
   "execution_count": 18,
   "id": "ceaa0f97-7284-48e7-b8fb-187939c14b09",
   "metadata": {},
   "outputs": [
    {
     "name": "stdout",
     "output_type": "stream",
     "text": [
      "           Cars   Color\n",
      "count         8       8\n",
      "unique        8       8\n",
      "top     Ferrari  yellow\n",
      "freq          1       1\n"
     ]
    }
   ],
   "source": [
    "##6) Describe your current car sales Data Frame using describe () \n",
    "print(new.describe())"
   ]
  },
  {
   "cell_type": "code",
   "execution_count": 19,
   "id": "d9dcc30d-a5ee-440f-bca9-8e3dae8e8983",
   "metadata": {},
   "outputs": [
    {
     "name": "stdout",
     "output_type": "stream",
     "text": [
      "<class 'pandas.core.frame.DataFrame'>\n",
      "RangeIndex: 8 entries, 0 to 7\n",
      "Data columns (total 2 columns):\n",
      " #   Column  Non-Null Count  Dtype \n",
      "---  ------  --------------  ----- \n",
      " 0   Cars    8 non-null      object\n",
      " 1   Color   8 non-null      object\n",
      "dtypes: object(2)\n",
      "memory usage: 260.0+ bytes\n",
      "None\n"
     ]
    }
   ],
   "source": [
    "##7) Get information about your Data Frame using info () \n",
    "print(new.info())"
   ]
  },
  {
   "cell_type": "code",
   "execution_count": 21,
   "id": "24299bda-8de0-4030-86f5-213ee4ba9b86",
   "metadata": {},
   "outputs": [
    {
     "name": "stdout",
     "output_type": "stream",
     "text": [
      "Mean : 60.333333333333336\n"
     ]
    }
   ],
   "source": [
    "##8) Create a Series of different numbers and find the mean of them\n",
    "n=pd.Series([24,52,76,39,71,96,92,54,39])\n",
    "print(\"Mean :\",n.mean())"
   ]
  },
  {
   "cell_type": "code",
   "execution_count": 22,
   "id": "736c66c6-b00a-4577-afab-53fb8c4ac337",
   "metadata": {},
   "outputs": [
    {
     "name": "stdout",
     "output_type": "stream",
     "text": [
      "Sum: 335\n"
     ]
    }
   ],
   "source": [
    "##9) Create a Series of different numbers and find the sum of them \n",
    "n=pd.Series([23,67,43,26,86,12,78])\n",
    "print(\"Sum:\",n.sum())"
   ]
  },
  {
   "cell_type": "code",
   "execution_count": 23,
   "id": "08c67708-69a1-44db-b326-b93b312e9715",
   "metadata": {},
   "outputs": [
    {
     "name": "stdout",
     "output_type": "stream",
     "text": [
      "Index(['Cars', 'Color'], dtype='object')\n"
     ]
    }
   ],
   "source": [
    "##10) List out all the column names of the car sales Data Frame \n",
    "print(new.columns)"
   ]
  },
  {
   "cell_type": "code",
   "execution_count": 24,
   "id": "a3676187-fbe6-468e-b489-483bcd3ccd08",
   "metadata": {},
   "outputs": [
    {
     "name": "stdout",
     "output_type": "stream",
     "text": [
      "(8, 2)\n"
     ]
    }
   ],
   "source": [
    "##11) Find the length of the car sales Data Frame \n",
    "print(new.shape)"
   ]
  },
  {
   "cell_type": "code",
   "execution_count": 25,
   "id": "3d1e377d-95af-4ef1-80a0-a93ca4463fb9",
   "metadata": {},
   "outputs": [
    {
     "data": {
      "text/html": [
       "<div>\n",
       "<style scoped>\n",
       "    .dataframe tbody tr th:only-of-type {\n",
       "        vertical-align: middle;\n",
       "    }\n",
       "\n",
       "    .dataframe tbody tr th {\n",
       "        vertical-align: top;\n",
       "    }\n",
       "\n",
       "    .dataframe thead th {\n",
       "        text-align: right;\n",
       "    }\n",
       "</style>\n",
       "<table border=\"1\" class=\"dataframe\">\n",
       "  <thead>\n",
       "    <tr style=\"text-align: right;\">\n",
       "      <th></th>\n",
       "      <th>Cars</th>\n",
       "      <th>Color</th>\n",
       "    </tr>\n",
       "  </thead>\n",
       "  <tbody>\n",
       "    <tr>\n",
       "      <th>0</th>\n",
       "      <td>Ferrari</td>\n",
       "      <td>yellow</td>\n",
       "    </tr>\n",
       "    <tr>\n",
       "      <th>1</th>\n",
       "      <td>bugatti</td>\n",
       "      <td>White</td>\n",
       "    </tr>\n",
       "    <tr>\n",
       "      <th>2</th>\n",
       "      <td>Lamborghini</td>\n",
       "      <td>Red</td>\n",
       "    </tr>\n",
       "    <tr>\n",
       "      <th>3</th>\n",
       "      <td>BMW</td>\n",
       "      <td>Black</td>\n",
       "    </tr>\n",
       "    <tr>\n",
       "      <th>4</th>\n",
       "      <td>THAR</td>\n",
       "      <td>Blue</td>\n",
       "    </tr>\n",
       "  </tbody>\n",
       "</table>\n",
       "</div>"
      ],
      "text/plain": [
       "          Cars   Color\n",
       "0      Ferrari  yellow\n",
       "1      bugatti   White\n",
       "2  Lamborghini     Red\n",
       "3          BMW   Black\n",
       "4         THAR    Blue"
      ]
     },
     "execution_count": 25,
     "metadata": {},
     "output_type": "execute_result"
    }
   ],
   "source": [
    "##12) Show the first 5 rows of the car sales Data Frame \n",
    "new.head()\n"
   ]
  },
  {
   "cell_type": "code",
   "execution_count": 26,
   "id": "706ba916-d0ae-4778-92c4-1227e7594cf9",
   "metadata": {},
   "outputs": [
    {
     "data": {
      "text/html": [
       "<div>\n",
       "<style scoped>\n",
       "    .dataframe tbody tr th:only-of-type {\n",
       "        vertical-align: middle;\n",
       "    }\n",
       "\n",
       "    .dataframe tbody tr th {\n",
       "        vertical-align: top;\n",
       "    }\n",
       "\n",
       "    .dataframe thead th {\n",
       "        text-align: right;\n",
       "    }\n",
       "</style>\n",
       "<table border=\"1\" class=\"dataframe\">\n",
       "  <thead>\n",
       "    <tr style=\"text-align: right;\">\n",
       "      <th></th>\n",
       "      <th>Cars</th>\n",
       "      <th>Color</th>\n",
       "    </tr>\n",
       "  </thead>\n",
       "  <tbody>\n",
       "    <tr>\n",
       "      <th>0</th>\n",
       "      <td>Ferrari</td>\n",
       "      <td>yellow</td>\n",
       "    </tr>\n",
       "    <tr>\n",
       "      <th>1</th>\n",
       "      <td>bugatti</td>\n",
       "      <td>White</td>\n",
       "    </tr>\n",
       "    <tr>\n",
       "      <th>2</th>\n",
       "      <td>Lamborghini</td>\n",
       "      <td>Red</td>\n",
       "    </tr>\n",
       "    <tr>\n",
       "      <th>3</th>\n",
       "      <td>BMW</td>\n",
       "      <td>Black</td>\n",
       "    </tr>\n",
       "    <tr>\n",
       "      <th>4</th>\n",
       "      <td>THAR</td>\n",
       "      <td>Blue</td>\n",
       "    </tr>\n",
       "    <tr>\n",
       "      <th>5</th>\n",
       "      <td>porsche</td>\n",
       "      <td>Brown</td>\n",
       "    </tr>\n",
       "    <tr>\n",
       "      <th>6</th>\n",
       "      <td>Ford</td>\n",
       "      <td>Pink</td>\n",
       "    </tr>\n",
       "  </tbody>\n",
       "</table>\n",
       "</div>"
      ],
      "text/plain": [
       "          Cars   Color\n",
       "0      Ferrari  yellow\n",
       "1      bugatti   White\n",
       "2  Lamborghini     Red\n",
       "3          BMW   Black\n",
       "4         THAR    Blue\n",
       "5      porsche   Brown\n",
       "6         Ford    Pink"
      ]
     },
     "execution_count": 26,
     "metadata": {},
     "output_type": "execute_result"
    }
   ],
   "source": [
    "##13) Show the first 7 rows of the car sales Data Frame \n",
    "new.head(7)"
   ]
  },
  {
   "cell_type": "code",
   "execution_count": 27,
   "id": "b72c01ca-11af-423d-97d7-4d5b9549171b",
   "metadata": {},
   "outputs": [
    {
     "data": {
      "text/html": [
       "<div>\n",
       "<style scoped>\n",
       "    .dataframe tbody tr th:only-of-type {\n",
       "        vertical-align: middle;\n",
       "    }\n",
       "\n",
       "    .dataframe tbody tr th {\n",
       "        vertical-align: top;\n",
       "    }\n",
       "\n",
       "    .dataframe thead th {\n",
       "        text-align: right;\n",
       "    }\n",
       "</style>\n",
       "<table border=\"1\" class=\"dataframe\">\n",
       "  <thead>\n",
       "    <tr style=\"text-align: right;\">\n",
       "      <th></th>\n",
       "      <th>Cars</th>\n",
       "      <th>Color</th>\n",
       "    </tr>\n",
       "  </thead>\n",
       "  <tbody>\n",
       "    <tr>\n",
       "      <th>3</th>\n",
       "      <td>BMW</td>\n",
       "      <td>Black</td>\n",
       "    </tr>\n",
       "    <tr>\n",
       "      <th>4</th>\n",
       "      <td>THAR</td>\n",
       "      <td>Blue</td>\n",
       "    </tr>\n",
       "    <tr>\n",
       "      <th>5</th>\n",
       "      <td>porsche</td>\n",
       "      <td>Brown</td>\n",
       "    </tr>\n",
       "    <tr>\n",
       "      <th>6</th>\n",
       "      <td>Ford</td>\n",
       "      <td>Pink</td>\n",
       "    </tr>\n",
       "    <tr>\n",
       "      <th>7</th>\n",
       "      <td>Audi</td>\n",
       "      <td>purple</td>\n",
       "    </tr>\n",
       "  </tbody>\n",
       "</table>\n",
       "</div>"
      ],
      "text/plain": [
       "      Cars   Color\n",
       "3      BMW   Black\n",
       "4     THAR    Blue\n",
       "5  porsche   Brown\n",
       "6     Ford    Pink\n",
       "7     Audi  purple"
      ]
     },
     "execution_count": 27,
     "metadata": {},
     "output_type": "execute_result"
    }
   ],
   "source": [
    "##14) Show the bottom 5 rows of the car sales Data Frame \n",
    "new.tail()"
   ]
  },
  {
   "cell_type": "code",
   "execution_count": 30,
   "id": "311658dd-ad0b-47bb-ac03-b0784f0f2640",
   "metadata": {},
   "outputs": [
    {
     "data": {
      "text/html": [
       "<div>\n",
       "<style scoped>\n",
       "    .dataframe tbody tr th:only-of-type {\n",
       "        vertical-align: middle;\n",
       "    }\n",
       "\n",
       "    .dataframe tbody tr th {\n",
       "        vertical-align: top;\n",
       "    }\n",
       "\n",
       "    .dataframe thead th {\n",
       "        text-align: right;\n",
       "    }\n",
       "</style>\n",
       "<table border=\"1\" class=\"dataframe\">\n",
       "  <thead>\n",
       "    <tr style=\"text-align: right;\">\n",
       "      <th></th>\n",
       "      <th>Cars</th>\n",
       "      <th>Color</th>\n",
       "    </tr>\n",
       "  </thead>\n",
       "  <tbody>\n",
       "    <tr>\n",
       "      <th>0</th>\n",
       "      <td>Ferrari</td>\n",
       "      <td>yellow</td>\n",
       "    </tr>\n",
       "    <tr>\n",
       "      <th>1</th>\n",
       "      <td>bugatti</td>\n",
       "      <td>White</td>\n",
       "    </tr>\n",
       "    <tr>\n",
       "      <th>2</th>\n",
       "      <td>Lamborghini</td>\n",
       "      <td>Red</td>\n",
       "    </tr>\n",
       "    <tr>\n",
       "      <th>3</th>\n",
       "      <td>BMW</td>\n",
       "      <td>Black</td>\n",
       "    </tr>\n",
       "  </tbody>\n",
       "</table>\n",
       "</div>"
      ],
      "text/plain": [
       "          Cars   Color\n",
       "0      Ferrari  yellow\n",
       "1      bugatti   White\n",
       "2  Lamborghini     Red\n",
       "3          BMW   Black"
      ]
     },
     "execution_count": 30,
     "metadata": {},
     "output_type": "execute_result"
    }
   ],
   "source": [
    "##15) Use. loc to select the row at index 3 of the car sales Data Frame b\n",
    "new.loc[0:3,['Cars','Color']]"
   ]
  },
  {
   "cell_type": "code",
   "execution_count": 31,
   "id": "46346352-9a63-4485-8560-8645d941d77d",
   "metadata": {},
   "outputs": [
    {
     "data": {
      "text/plain": [
       "Cars       BMW\n",
       "Color    Black\n",
       "Name: 3, dtype: object"
      ]
     },
     "execution_count": 31,
     "metadata": {},
     "output_type": "execute_result"
    }
   ],
   "source": [
    "##16) Use. iloc to select the row at position 3 of the car sales Data Frame \n",
    "new.iloc[3]"
   ]
  },
  {
   "cell_type": "code",
   "execution_count": 36,
   "id": "9fa92a1e-2d03-474e-8841-f51815fb720b",
   "metadata": {},
   "outputs": [
    {
     "name": "stdout",
     "output_type": "stream",
     "text": [
      "doors   2  4\n",
      "make        \n",
      "Audi    1  0\n",
      "BMW     1  0\n",
      "Ford    0  1\n",
      "Honda   0  1\n",
      "Toyota  0  1\n"
     ]
    }
   ],
   "source": [
    "##17) Create a crosstab of the Make and Doors columns. \n",
    "data = {\n",
    "    'make': ['Toyota', 'Honda', 'BMW', 'Ford', 'Audi'],\n",
    "    'doors': [4, 4, 2, 4, 2]\n",
    "}\n",
    "df = pd.DataFrame(data)\n",
    "print(pd.crosstab(df['make'],df['doors']))"
   ]
  },
  {
   "cell_type": "code",
   "execution_count": null,
   "id": "0e89b8ad-f852-4a57-b4a0-2ff4d83b85b1",
   "metadata": {},
   "outputs": [],
   "source": []
  }
 ],
 "metadata": {
  "kernelspec": {
   "display_name": "Python 3 (ipykernel)",
   "language": "python",
   "name": "python3"
  },
  "language_info": {
   "codemirror_mode": {
    "name": "ipython",
    "version": 3
   },
   "file_extension": ".py",
   "mimetype": "text/x-python",
   "name": "python",
   "nbconvert_exporter": "python",
   "pygments_lexer": "ipython3",
   "version": "3.12.4"
  }
 },
 "nbformat": 4,
 "nbformat_minor": 5
}
